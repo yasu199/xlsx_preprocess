{
 "cells": [
  {
   "cell_type": "markdown",
   "metadata": {},
   "source": [
    "# 目的: Excelの扱い方を学ぶ"
   ]
  },
  {
   "cell_type": "code",
   "execution_count": 108,
   "metadata": {},
   "outputs": [],
   "source": [
    "import pandas as pd\n",
    "import numpy as np\n",
    "import matplotlib.pyplot as plt\n",
    "import seaborn as sns\n",
    "import japanize_matplotlib"
   ]
  },
  {
   "cell_type": "code",
   "execution_count": 109,
   "metadata": {},
   "outputs": [],
   "source": [
    "df = pd.read_excel(\"../data/202307_imbalance-price_01.xlsx\", sheet_name=None, header=None)"
   ]
  },
  {
   "cell_type": "code",
   "execution_count": 110,
   "metadata": {},
   "outputs": [],
   "source": [
    "sheet_name = []\n",
    "sheet_dfs = []\n",
    "for k, i in df.items():\n",
    "    sheet_name.append(k)\n",
    "    sheet_dfs.append(i)"
   ]
  },
  {
   "cell_type": "code",
   "execution_count": 111,
   "metadata": {},
   "outputs": [
    {
     "data": {
      "text/plain": [
       "['Sheet1', '202307_imbalance-price_01', 'Sheet2', 'Sheet3']"
      ]
     },
     "execution_count": 111,
     "metadata": {},
     "output_type": "execute_result"
    }
   ],
   "source": [
    "sheet_name"
   ]
  },
  {
   "cell_type": "code",
   "execution_count": 112,
   "metadata": {},
   "outputs": [],
   "source": [
    "def add_sheet_and_datablock_info(dfs, sheet_names):\n",
    "    for i, name in enumerate(sheet_names):\n",
    "        dfs[i]['sheet_name'] = name\n",
    "        num_null_cols = dfs[i].isnull().sum(axis=1)\n",
    "        num_filled_cols = (~dfs[i].isnull()).sum(axis=1)\n",
    "        dfs[i]['diff_filled_cols'] = num_filled_cols - num_filled_cols.shift().fillna(0)\n",
    "    return dfs"
   ]
  },
  {
   "cell_type": "code",
   "execution_count": 113,
   "metadata": {},
   "outputs": [],
   "source": [
    "tmp_dfs = add_sheet_and_datablock_info(sheet_dfs, sheet_name)"
   ]
  },
  {
   "cell_type": "code",
   "execution_count": 114,
   "metadata": {},
   "outputs": [],
   "source": [
    "tmp = tmp_dfs[2]"
   ]
  },
  {
   "cell_type": "code",
   "execution_count": 119,
   "metadata": {},
   "outputs": [],
   "source": [
    "common_cols = ['sheet_name', 'diff_filled_cols']"
   ]
  },
  {
   "cell_type": "code",
   "execution_count": 115,
   "metadata": {},
   "outputs": [],
   "source": [
    "def get_datablock_index(df, target_col, threshold):\n",
    "    start_indexs = list(df[df[target_col]>=threshold].index.values)\n",
    "    end_indexs = list(df[df[target_col]<=-1*threshold].index.values)\n",
    "    start_indexs.append(df.index[0])\n",
    "    end_indexs.append(df.index[-1])\n",
    "\n",
    "    block_indexs = set(start_indexs + end_indexs)\n",
    "\n",
    "    block_indexs = list(block_indexs)\n",
    "    block_indexs.sort()\n",
    "    return block_indexs"
   ]
  },
  {
   "cell_type": "code",
   "execution_count": 116,
   "metadata": {},
   "outputs": [],
   "source": [
    "def make_datablock_ind_map(block_indexs):\n",
    "    return_map = {}\n",
    "    for i, start_index in enumerate(block_indexs):\n",
    "        if (i + 2) == len(block_indexs):\n",
    "            return_map[start_index] = 'End'\n",
    "            return return_map\n",
    "        else:\n",
    "            end_index = block_indexs[i + 1]\n",
    "            return_map[start_index] = end_index"
   ]
  },
  {
   "cell_type": "code",
   "execution_count": 117,
   "metadata": {},
   "outputs": [],
   "source": [
    "block_indexs = get_datablock_index(tmp, 'diff_filled_cols', 5)"
   ]
  },
  {
   "cell_type": "code",
   "execution_count": 118,
   "metadata": {},
   "outputs": [],
   "source": [
    "index_map = make_datablock_ind_map(block_indexs)"
   ]
  },
  {
   "cell_type": "code",
   "execution_count": 123,
   "metadata": {},
   "outputs": [],
   "source": [
    "def get_common_col_map(df, common_cols):\n",
    "    df_cols = df.columns\n",
    "    common_cols_index, = np.where([(col in common_cols) for col in df_cols])\n",
    "    common_col_map = {i:df_cols[i] for i in common_cols_index}\n",
    "    return common_col_map"
   ]
  },
  {
   "cell_type": "code",
   "execution_count": 128,
   "metadata": {},
   "outputs": [],
   "source": [
    "def rename_2_common_col(columns, common_col_map):\n",
    "    for i, col in common_col_map.items():\n",
    "        columns[i] = col\n",
    "    return columns"
   ]
  },
  {
   "cell_type": "code",
   "execution_count": 129,
   "metadata": {},
   "outputs": [],
   "source": [
    "def get_separated_datablock_list(df, block_indexs, common_cols):\n",
    "    return_list = []\n",
    "    common_col_map = get_common_col_map(df, common_cols)\n",
    "    for s, e in block_indexs.items():\n",
    "        if e=='End':\n",
    "            data = df.iloc[(s+1):, :].values\n",
    "            columns = df.iloc[s, :].values\n",
    "        else:\n",
    "            data = df.iloc[(s+1):e, :].values\n",
    "            columns = df.iloc[s, :].values\n",
    "        \n",
    "        columns = rename_2_common_col(columns, common_col_map)\n",
    "        separeted_df = pd.DataFrame(data=data, columns=columns)\n",
    "        return_list.append(separeted_df)\n",
    "\n",
    "    return return_list"
   ]
  },
  {
   "cell_type": "code",
   "execution_count": 130,
   "metadata": {},
   "outputs": [],
   "source": [
    "test = get_separated_datablock_list(tmp, index_map, common_cols)"
   ]
  },
  {
   "cell_type": "code",
   "execution_count": 135,
   "metadata": {},
   "outputs": [],
   "source": [
    "test = test[1]"
   ]
  },
  {
   "cell_type": "code",
   "execution_count": 143,
   "metadata": {},
   "outputs": [
    {
     "data": {
      "text/html": [
       "<div>\n",
       "<style scoped>\n",
       "    .dataframe tbody tr th:only-of-type {\n",
       "        vertical-align: middle;\n",
       "    }\n",
       "\n",
       "    .dataframe tbody tr th {\n",
       "        vertical-align: top;\n",
       "    }\n",
       "\n",
       "    .dataframe thead th {\n",
       "        text-align: right;\n",
       "    }\n",
       "</style>\n",
       "<table border=\"1\" class=\"dataframe\">\n",
       "  <thead>\n",
       "    <tr style=\"text-align: right;\">\n",
       "      <th></th>\n",
       "      <th>行ラベル</th>\n",
       "      <th>20230701</th>\n",
       "      <th>20230702</th>\n",
       "      <th>20230703</th>\n",
       "      <th>20230704.0</th>\n",
       "      <th>20230705</th>\n",
       "      <th>20230706.0</th>\n",
       "      <th>20230707.0</th>\n",
       "      <th>20230708.0</th>\n",
       "      <th>20230709.0</th>\n",
       "      <th>...</th>\n",
       "      <th>20230716.0</th>\n",
       "      <th>20230717.0</th>\n",
       "      <th>20230718.0</th>\n",
       "      <th>20230719.0</th>\n",
       "      <th>20230720.0</th>\n",
       "      <th>20230721.0</th>\n",
       "      <th>20230722.0</th>\n",
       "      <th>総計</th>\n",
       "      <th>sheet_name</th>\n",
       "      <th>diff_filled_cols</th>\n",
       "    </tr>\n",
       "  </thead>\n",
       "  <tbody>\n",
       "    <tr>\n",
       "      <th>0</th>\n",
       "      <td>1</td>\n",
       "      <td>11.1</td>\n",
       "      <td>10.15</td>\n",
       "      <td>10.38</td>\n",
       "      <td>9.75</td>\n",
       "      <td>13.35</td>\n",
       "      <td>12.09</td>\n",
       "      <td>11.15</td>\n",
       "      <td>14.13</td>\n",
       "      <td>12.81</td>\n",
       "      <td>...</td>\n",
       "      <td>10.39</td>\n",
       "      <td>10.91</td>\n",
       "      <td>13.72</td>\n",
       "      <td>15.89</td>\n",
       "      <td>11.24</td>\n",
       "      <td>10.96</td>\n",
       "      <td>9.19</td>\n",
       "      <td>255.38</td>\n",
       "      <td>Sheet2</td>\n",
       "      <td>0.0</td>\n",
       "    </tr>\n",
       "    <tr>\n",
       "      <th>1</th>\n",
       "      <td>2</td>\n",
       "      <td>9.79</td>\n",
       "      <td>10.38</td>\n",
       "      <td>11.96</td>\n",
       "      <td>8.84</td>\n",
       "      <td>10.46</td>\n",
       "      <td>11.37</td>\n",
       "      <td>10.14</td>\n",
       "      <td>13.83</td>\n",
       "      <td>12.22</td>\n",
       "      <td>...</td>\n",
       "      <td>10.05</td>\n",
       "      <td>11.64</td>\n",
       "      <td>12.78</td>\n",
       "      <td>11.92</td>\n",
       "      <td>11.73</td>\n",
       "      <td>10.2</td>\n",
       "      <td>9.42</td>\n",
       "      <td>241.11</td>\n",
       "      <td>Sheet2</td>\n",
       "      <td>0.0</td>\n",
       "    </tr>\n",
       "    <tr>\n",
       "      <th>2</th>\n",
       "      <td>3</td>\n",
       "      <td>9.8</td>\n",
       "      <td>9.98</td>\n",
       "      <td>10.73</td>\n",
       "      <td>7.84</td>\n",
       "      <td>8.27</td>\n",
       "      <td>10.46</td>\n",
       "      <td>10.04</td>\n",
       "      <td>13.2</td>\n",
       "      <td>21.49</td>\n",
       "      <td>...</td>\n",
       "      <td>14.95</td>\n",
       "      <td>10.5</td>\n",
       "      <td>12.75</td>\n",
       "      <td>12.45</td>\n",
       "      <td>11.41</td>\n",
       "      <td>10.92</td>\n",
       "      <td>9.25</td>\n",
       "      <td>250.96</td>\n",
       "      <td>Sheet2</td>\n",
       "      <td>0.0</td>\n",
       "    </tr>\n",
       "    <tr>\n",
       "      <th>3</th>\n",
       "      <td>4</td>\n",
       "      <td>9.3</td>\n",
       "      <td>10.19</td>\n",
       "      <td>10.3</td>\n",
       "      <td>7.84</td>\n",
       "      <td>9.7</td>\n",
       "      <td>11.2</td>\n",
       "      <td>9.93</td>\n",
       "      <td>13.24</td>\n",
       "      <td>12.59</td>\n",
       "      <td>...</td>\n",
       "      <td>12.16</td>\n",
       "      <td>10.0</td>\n",
       "      <td>11.86</td>\n",
       "      <td>12.17</td>\n",
       "      <td>11.92</td>\n",
       "      <td>9.93</td>\n",
       "      <td>10.05</td>\n",
       "      <td>234.84</td>\n",
       "      <td>Sheet2</td>\n",
       "      <td>0.0</td>\n",
       "    </tr>\n",
       "    <tr>\n",
       "      <th>4</th>\n",
       "      <td>5</td>\n",
       "      <td>11.08</td>\n",
       "      <td>10.21</td>\n",
       "      <td>11.59</td>\n",
       "      <td>11.5</td>\n",
       "      <td>8.84</td>\n",
       "      <td>10.9</td>\n",
       "      <td>10.05</td>\n",
       "      <td>12.96</td>\n",
       "      <td>12.36</td>\n",
       "      <td>...</td>\n",
       "      <td>13.08</td>\n",
       "      <td>8.93</td>\n",
       "      <td>10.5</td>\n",
       "      <td>12.21</td>\n",
       "      <td>11.91</td>\n",
       "      <td>9.8</td>\n",
       "      <td>9.34</td>\n",
       "      <td>236.49</td>\n",
       "      <td>Sheet2</td>\n",
       "      <td>0.0</td>\n",
       "    </tr>\n",
       "  </tbody>\n",
       "</table>\n",
       "<p>5 rows × 26 columns</p>\n",
       "</div>"
      ],
      "text/plain": [
       "  行ラベル 20230701 20230702 20230703 20230704.0 20230705 20230706.0 20230707.0  \\\n",
       "0    1     11.1    10.15    10.38       9.75    13.35      12.09      11.15   \n",
       "1    2     9.79    10.38    11.96       8.84    10.46      11.37      10.14   \n",
       "2    3      9.8     9.98    10.73       7.84     8.27      10.46      10.04   \n",
       "3    4      9.3    10.19     10.3       7.84      9.7       11.2       9.93   \n",
       "4    5    11.08    10.21    11.59       11.5     8.84       10.9      10.05   \n",
       "\n",
       "  20230708.0 20230709.0  ... 20230716.0 20230717.0 20230718.0 20230719.0  \\\n",
       "0      14.13      12.81  ...      10.39      10.91      13.72      15.89   \n",
       "1      13.83      12.22  ...      10.05      11.64      12.78      11.92   \n",
       "2       13.2      21.49  ...      14.95       10.5      12.75      12.45   \n",
       "3      13.24      12.59  ...      12.16       10.0      11.86      12.17   \n",
       "4      12.96      12.36  ...      13.08       8.93       10.5      12.21   \n",
       "\n",
       "  20230720.0 20230721.0 20230722.0      総計 sheet_name diff_filled_cols  \n",
       "0      11.24      10.96       9.19  255.38     Sheet2              0.0  \n",
       "1      11.73       10.2       9.42  241.11     Sheet2              0.0  \n",
       "2      11.41      10.92       9.25  250.96     Sheet2              0.0  \n",
       "3      11.92       9.93      10.05  234.84     Sheet2              0.0  \n",
       "4      11.91        9.8       9.34  236.49     Sheet2              0.0  \n",
       "\n",
       "[5 rows x 26 columns]"
      ]
     },
     "execution_count": 143,
     "metadata": {},
     "output_type": "execute_result"
    }
   ],
   "source": [
    "test.head()"
   ]
  },
  {
   "cell_type": "code",
   "execution_count": 140,
   "metadata": {},
   "outputs": [],
   "source": [
    "non_time_cols = ['行ラベル', 'sheet_name', 'diff_filled_cols', '総計']\n",
    "time_cols = [col for col in test.columns if col not in non_time_cols]"
   ]
  },
  {
   "cell_type": "code",
   "execution_count": 145,
   "metadata": {},
   "outputs": [],
   "source": [
    "test = test.set_index('行ラベル')"
   ]
  },
  {
   "cell_type": "code",
   "execution_count": 148,
   "metadata": {},
   "outputs": [
    {
     "data": {
      "text/html": [
       "<div>\n",
       "<style scoped>\n",
       "    .dataframe tbody tr th:only-of-type {\n",
       "        vertical-align: middle;\n",
       "    }\n",
       "\n",
       "    .dataframe tbody tr th {\n",
       "        vertical-align: top;\n",
       "    }\n",
       "\n",
       "    .dataframe thead th {\n",
       "        text-align: right;\n",
       "    }\n",
       "</style>\n",
       "<table border=\"1\" class=\"dataframe\">\n",
       "  <thead>\n",
       "    <tr style=\"text-align: right;\">\n",
       "      <th></th>\n",
       "      <th>行ラベル</th>\n",
       "      <th>level_1</th>\n",
       "      <th>0</th>\n",
       "    </tr>\n",
       "  </thead>\n",
       "  <tbody>\n",
       "    <tr>\n",
       "      <th>0</th>\n",
       "      <td>1</td>\n",
       "      <td>20230701.0</td>\n",
       "      <td>11.1</td>\n",
       "    </tr>\n",
       "    <tr>\n",
       "      <th>1</th>\n",
       "      <td>1</td>\n",
       "      <td>20230702.0</td>\n",
       "      <td>10.15</td>\n",
       "    </tr>\n",
       "    <tr>\n",
       "      <th>2</th>\n",
       "      <td>1</td>\n",
       "      <td>20230703.0</td>\n",
       "      <td>10.38</td>\n",
       "    </tr>\n",
       "    <tr>\n",
       "      <th>3</th>\n",
       "      <td>1</td>\n",
       "      <td>20230704.0</td>\n",
       "      <td>9.75</td>\n",
       "    </tr>\n",
       "    <tr>\n",
       "      <th>4</th>\n",
       "      <td>1</td>\n",
       "      <td>20230705.0</td>\n",
       "      <td>13.35</td>\n",
       "    </tr>\n",
       "    <tr>\n",
       "      <th>...</th>\n",
       "      <td>...</td>\n",
       "      <td>...</td>\n",
       "      <td>...</td>\n",
       "    </tr>\n",
       "    <tr>\n",
       "      <th>1061</th>\n",
       "      <td>49</td>\n",
       "      <td>20230717.0</td>\n",
       "      <td>50.641818</td>\n",
       "    </tr>\n",
       "    <tr>\n",
       "      <th>1062</th>\n",
       "      <td>49</td>\n",
       "      <td>20230718.0</td>\n",
       "      <td>66.214912</td>\n",
       "    </tr>\n",
       "    <tr>\n",
       "      <th>1063</th>\n",
       "      <td>49</td>\n",
       "      <td>20230719.0</td>\n",
       "      <td>59.271127</td>\n",
       "    </tr>\n",
       "    <tr>\n",
       "      <th>1064</th>\n",
       "      <td>49</td>\n",
       "      <td>20230720.0</td>\n",
       "      <td>41.247107</td>\n",
       "    </tr>\n",
       "    <tr>\n",
       "      <th>1065</th>\n",
       "      <td>49</td>\n",
       "      <td>20230721.0</td>\n",
       "      <td>55.292</td>\n",
       "    </tr>\n",
       "  </tbody>\n",
       "</table>\n",
       "<p>1066 rows × 3 columns</p>\n",
       "</div>"
      ],
      "text/plain": [
       "     行ラベル     level_1          0\n",
       "0       1  20230701.0       11.1\n",
       "1       1  20230702.0      10.15\n",
       "2       1  20230703.0      10.38\n",
       "3       1  20230704.0       9.75\n",
       "4       1  20230705.0      13.35\n",
       "...   ...         ...        ...\n",
       "1061   49  20230717.0  50.641818\n",
       "1062   49  20230718.0  66.214912\n",
       "1063   49  20230719.0  59.271127\n",
       "1064   49  20230720.0  41.247107\n",
       "1065   49  20230721.0     55.292\n",
       "\n",
       "[1066 rows x 3 columns]"
      ]
     },
     "execution_count": 148,
     "metadata": {},
     "output_type": "execute_result"
    }
   ],
   "source": [
    "test[time_cols].stack().reset_index()"
   ]
  },
  {
   "cell_type": "markdown",
   "metadata": {},
   "source": [
    "## 次"
   ]
  },
  {
   "cell_type": "code",
   "execution_count": null,
   "metadata": {},
   "outputs": [],
   "source": []
  }
 ],
 "metadata": {
  "kernelspec": {
   "display_name": ".venv",
   "language": "python",
   "name": "python3"
  },
  "language_info": {
   "codemirror_mode": {
    "name": "ipython",
    "version": 3
   },
   "file_extension": ".py",
   "mimetype": "text/x-python",
   "name": "python",
   "nbconvert_exporter": "python",
   "pygments_lexer": "ipython3",
   "version": "3.10.6"
  },
  "orig_nbformat": 4
 },
 "nbformat": 4,
 "nbformat_minor": 2
}
